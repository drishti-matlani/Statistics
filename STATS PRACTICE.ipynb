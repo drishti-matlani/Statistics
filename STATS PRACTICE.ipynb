{
 "cells": [
  {
   "cell_type": "code",
   "execution_count": 3,
   "id": "54af4c2d-9666-4083-aa78-40e2645ee81b",
   "metadata": {},
   "outputs": [],
   "source": [
    "import pandas as pd\n",
    "import numpy as np"
   ]
  },
  {
   "cell_type": "code",
   "execution_count": 62,
   "id": "47c77f2c-5e0b-434a-949c-273b04dfb1e4",
   "metadata": {},
   "outputs": [],
   "source": [
    "data={\n",
    "    \"height\":[150,160,165,170,175,180,185],\n",
    "    \"Weight\":[50,55,60,65,70,75,80]\n",
    "}\n",
    "df=pd.DataFrame(data)                                 #we can create a dataframe from a dictionary "
   ]
  },
  {
   "cell_type": "code",
   "execution_count": 5,
   "id": "041abf7d-2978-465c-8098-3d3abdd69123",
   "metadata": {},
   "outputs": [
    {
     "data": {
      "text/html": [
       "<div>\n",
       "<style scoped>\n",
       "    .dataframe tbody tr th:only-of-type {\n",
       "        vertical-align: middle;\n",
       "    }\n",
       "\n",
       "    .dataframe tbody tr th {\n",
       "        vertical-align: top;\n",
       "    }\n",
       "\n",
       "    .dataframe thead th {\n",
       "        text-align: right;\n",
       "    }\n",
       "</style>\n",
       "<table border=\"1\" class=\"dataframe\">\n",
       "  <thead>\n",
       "    <tr style=\"text-align: right;\">\n",
       "      <th></th>\n",
       "      <th>height</th>\n",
       "      <th>Weight</th>\n",
       "    </tr>\n",
       "  </thead>\n",
       "  <tbody>\n",
       "    <tr>\n",
       "      <th>0</th>\n",
       "      <td>150</td>\n",
       "      <td>50</td>\n",
       "    </tr>\n",
       "    <tr>\n",
       "      <th>1</th>\n",
       "      <td>160</td>\n",
       "      <td>55</td>\n",
       "    </tr>\n",
       "    <tr>\n",
       "      <th>2</th>\n",
       "      <td>165</td>\n",
       "      <td>60</td>\n",
       "    </tr>\n",
       "    <tr>\n",
       "      <th>3</th>\n",
       "      <td>170</td>\n",
       "      <td>65</td>\n",
       "    </tr>\n",
       "    <tr>\n",
       "      <th>4</th>\n",
       "      <td>175</td>\n",
       "      <td>70</td>\n",
       "    </tr>\n",
       "    <tr>\n",
       "      <th>5</th>\n",
       "      <td>180</td>\n",
       "      <td>75</td>\n",
       "    </tr>\n",
       "    <tr>\n",
       "      <th>6</th>\n",
       "      <td>185</td>\n",
       "      <td>80</td>\n",
       "    </tr>\n",
       "  </tbody>\n",
       "</table>\n",
       "</div>"
      ],
      "text/plain": [
       "   height  Weight\n",
       "0     150      50\n",
       "1     160      55\n",
       "2     165      60\n",
       "3     170      65\n",
       "4     175      70\n",
       "5     180      75\n",
       "6     185      80"
      ]
     },
     "execution_count": 5,
     "metadata": {},
     "output_type": "execute_result"
    }
   ],
   "source": [
    "df.head(7)"
   ]
  },
  {
   "cell_type": "code",
   "execution_count": 64,
   "id": "720ceff0-6fcd-425d-a4b7-095a2ce85e43",
   "metadata": {},
   "outputs": [
    {
     "name": "stdout",
     "output_type": "stream",
     "text": [
      "0.9922858194799439\n"
     ]
    }
   ],
   "source": [
    "correlation=df[\"height\"].corr(df[\"Weight\"])\n",
    "print(correlation)                                        #IN CORRELATION IT BY DEFAULT TAKE KALESPEARSON METHOD "
   ]
  },
  {
   "cell_type": "code",
   "execution_count": 7,
   "id": "6ab92094-93f7-4f25-9bf2-65f2fc4d4df0",
   "metadata": {},
   "outputs": [
    {
     "name": "stdout",
     "output_type": "stream",
     "text": [
      "1.0\n"
     ]
    }
   ],
   "source": [
    "correlation=df[\"height\"].corr(df[\"Weight\"],method=\"spearman\")\n",
    "print(correlation)"
   ]
  },
  {
   "cell_type": "code",
   "execution_count": 8,
   "id": "09a52738-fe47-4572-8766-7ed316dd39c7",
   "metadata": {},
   "outputs": [
    {
     "data": {
      "text/html": [
       "<div>\n",
       "<style scoped>\n",
       "    .dataframe tbody tr th:only-of-type {\n",
       "        vertical-align: middle;\n",
       "    }\n",
       "\n",
       "    .dataframe tbody tr th {\n",
       "        vertical-align: top;\n",
       "    }\n",
       "\n",
       "    .dataframe thead th {\n",
       "        text-align: right;\n",
       "    }\n",
       "</style>\n",
       "<table border=\"1\" class=\"dataframe\">\n",
       "  <thead>\n",
       "    <tr style=\"text-align: right;\">\n",
       "      <th></th>\n",
       "      <th>height</th>\n",
       "      <th>Weight</th>\n",
       "      <th>rank1</th>\n",
       "      <th>rank2</th>\n",
       "    </tr>\n",
       "  </thead>\n",
       "  <tbody>\n",
       "    <tr>\n",
       "      <th>0</th>\n",
       "      <td>150</td>\n",
       "      <td>50</td>\n",
       "      <td>1.0</td>\n",
       "      <td>1.0</td>\n",
       "    </tr>\n",
       "    <tr>\n",
       "      <th>1</th>\n",
       "      <td>160</td>\n",
       "      <td>55</td>\n",
       "      <td>2.0</td>\n",
       "      <td>2.0</td>\n",
       "    </tr>\n",
       "    <tr>\n",
       "      <th>2</th>\n",
       "      <td>165</td>\n",
       "      <td>60</td>\n",
       "      <td>3.0</td>\n",
       "      <td>3.0</td>\n",
       "    </tr>\n",
       "    <tr>\n",
       "      <th>3</th>\n",
       "      <td>170</td>\n",
       "      <td>65</td>\n",
       "      <td>4.0</td>\n",
       "      <td>4.0</td>\n",
       "    </tr>\n",
       "    <tr>\n",
       "      <th>4</th>\n",
       "      <td>175</td>\n",
       "      <td>70</td>\n",
       "      <td>5.0</td>\n",
       "      <td>5.0</td>\n",
       "    </tr>\n",
       "  </tbody>\n",
       "</table>\n",
       "</div>"
      ],
      "text/plain": [
       "   height  Weight  rank1  rank2\n",
       "0     150      50    1.0    1.0\n",
       "1     160      55    2.0    2.0\n",
       "2     165      60    3.0    3.0\n",
       "3     170      65    4.0    4.0\n",
       "4     175      70    5.0    5.0"
      ]
     },
     "execution_count": 8,
     "metadata": {},
     "output_type": "execute_result"
    }
   ],
   "source": [
    "df[\"rank1\"]= df[\"height\"].rank()\n",
    "df[\"rank2\"]= df[\"Weight\"].rank()\n",
    "df.head()"
   ]
  },
  {
   "cell_type": "code",
   "execution_count": 9,
   "id": "fa8e599a-1e21-4f2f-9074-297663d20532",
   "metadata": {},
   "outputs": [],
   "source": [
    "df[\"D\"]=df[\"rank1\"]-df[\"rank2\"]"
   ]
  },
  {
   "cell_type": "code",
   "execution_count": 10,
   "id": "d903a1fd-a4c1-49b3-ac2f-e63c8b667223",
   "metadata": {},
   "outputs": [],
   "source": [
    "df[\"D2\"]=df[\"D\"]**2"
   ]
  },
  {
   "cell_type": "code",
   "execution_count": 11,
   "id": "4f2396b2-b804-4b87-aca1-cefd31a01275",
   "metadata": {},
   "outputs": [
    {
     "data": {
      "text/html": [
       "<div>\n",
       "<style scoped>\n",
       "    .dataframe tbody tr th:only-of-type {\n",
       "        vertical-align: middle;\n",
       "    }\n",
       "\n",
       "    .dataframe tbody tr th {\n",
       "        vertical-align: top;\n",
       "    }\n",
       "\n",
       "    .dataframe thead th {\n",
       "        text-align: right;\n",
       "    }\n",
       "</style>\n",
       "<table border=\"1\" class=\"dataframe\">\n",
       "  <thead>\n",
       "    <tr style=\"text-align: right;\">\n",
       "      <th></th>\n",
       "      <th>height</th>\n",
       "      <th>Weight</th>\n",
       "      <th>rank1</th>\n",
       "      <th>rank2</th>\n",
       "      <th>D</th>\n",
       "      <th>D2</th>\n",
       "    </tr>\n",
       "  </thead>\n",
       "  <tbody>\n",
       "    <tr>\n",
       "      <th>0</th>\n",
       "      <td>150</td>\n",
       "      <td>50</td>\n",
       "      <td>1.0</td>\n",
       "      <td>1.0</td>\n",
       "      <td>0.0</td>\n",
       "      <td>0.0</td>\n",
       "    </tr>\n",
       "    <tr>\n",
       "      <th>1</th>\n",
       "      <td>160</td>\n",
       "      <td>55</td>\n",
       "      <td>2.0</td>\n",
       "      <td>2.0</td>\n",
       "      <td>0.0</td>\n",
       "      <td>0.0</td>\n",
       "    </tr>\n",
       "    <tr>\n",
       "      <th>2</th>\n",
       "      <td>165</td>\n",
       "      <td>60</td>\n",
       "      <td>3.0</td>\n",
       "      <td>3.0</td>\n",
       "      <td>0.0</td>\n",
       "      <td>0.0</td>\n",
       "    </tr>\n",
       "    <tr>\n",
       "      <th>3</th>\n",
       "      <td>170</td>\n",
       "      <td>65</td>\n",
       "      <td>4.0</td>\n",
       "      <td>4.0</td>\n",
       "      <td>0.0</td>\n",
       "      <td>0.0</td>\n",
       "    </tr>\n",
       "    <tr>\n",
       "      <th>4</th>\n",
       "      <td>175</td>\n",
       "      <td>70</td>\n",
       "      <td>5.0</td>\n",
       "      <td>5.0</td>\n",
       "      <td>0.0</td>\n",
       "      <td>0.0</td>\n",
       "    </tr>\n",
       "  </tbody>\n",
       "</table>\n",
       "</div>"
      ],
      "text/plain": [
       "   height  Weight  rank1  rank2    D   D2\n",
       "0     150      50    1.0    1.0  0.0  0.0\n",
       "1     160      55    2.0    2.0  0.0  0.0\n",
       "2     165      60    3.0    3.0  0.0  0.0\n",
       "3     170      65    4.0    4.0  0.0  0.0\n",
       "4     175      70    5.0    5.0  0.0  0.0"
      ]
     },
     "execution_count": 11,
     "metadata": {},
     "output_type": "execute_result"
    }
   ],
   "source": [
    "df.head()"
   ]
  },
  {
   "cell_type": "code",
   "execution_count": 12,
   "id": "8df8855a-83d4-46de-9986-8d742a8077c2",
   "metadata": {},
   "outputs": [
    {
     "data": {
      "text/plain": [
       "0.0"
      ]
     },
     "execution_count": 12,
     "metadata": {},
     "output_type": "execute_result"
    }
   ],
   "source": [
    "sum_d2=df[\"D2\"].sum()\n",
    "sum_d2"
   ]
  },
  {
   "cell_type": "code",
   "execution_count": 13,
   "id": "0c6df6f8-7290-4b0f-998b-d8cbb4b149e0",
   "metadata": {},
   "outputs": [
    {
     "data": {
      "text/plain": [
       "7"
      ]
     },
     "execution_count": 13,
     "metadata": {},
     "output_type": "execute_result"
    }
   ],
   "source": [
    "n=len(df)\n",
    "n"
   ]
  },
  {
   "cell_type": "code",
   "execution_count": 14,
   "id": "eb9acda4-4c95-465e-ad61-ae37b6633a43",
   "metadata": {},
   "outputs": [
    {
     "data": {
      "text/plain": [
       "1.0"
      ]
     },
     "execution_count": 14,
     "metadata": {},
     "output_type": "execute_result"
    }
   ],
   "source": [
    "correlation_sp=1-((6*sum_d2)/((n**3)-n))\n",
    "correlation_sp"
   ]
  },
  {
   "cell_type": "code",
   "execution_count": 15,
   "id": "4c9636d5-0367-4bc2-bfff-f6efedb60cfb",
   "metadata": {},
   "outputs": [],
   "source": [
    "#Calculate mean of heigth & weight column manually without any inbuilt function."
   ]
  },
  {
   "cell_type": "code",
   "execution_count": 16,
   "id": "f5efec69-0a46-418d-8df0-20927b0f5af8",
   "metadata": {},
   "outputs": [
    {
     "data": {
      "text/plain": [
       "7"
      ]
     },
     "execution_count": 16,
     "metadata": {},
     "output_type": "execute_result"
    }
   ],
   "source": [
    "n=len(df)\n",
    "n"
   ]
  },
  {
   "cell_type": "code",
   "execution_count": 60,
   "id": "dda4154b-2c34-4913-9d93-50943d2e29ee",
   "metadata": {},
   "outputs": [
    {
     "data": {
      "text/plain": [
       "1185"
      ]
     },
     "execution_count": 60,
     "metadata": {},
     "output_type": "execute_result"
    }
   ],
   "source": [
    "height= df[\"height\"].sum()                #we calculate sum of frequency in height column \n",
    "height"
   ]
  },
  {
   "cell_type": "code",
   "execution_count": 18,
   "id": "6ad5dd6c-1e77-4aca-a936-2109419e4615",
   "metadata": {},
   "outputs": [
    {
     "data": {
      "text/plain": [
       "169.28571428571428"
      ]
     },
     "execution_count": 18,
     "metadata": {},
     "output_type": "execute_result"
    }
   ],
   "source": [
    "m_height= (df[\"height\"].sum()/n)          #we find mean of height\n",
    "m_height"
   ]
  },
  {
   "cell_type": "code",
   "execution_count": 19,
   "id": "3551e5d0-b0a0-445b-a069-f6c651fdec85",
   "metadata": {},
   "outputs": [
    {
     "data": {
      "text/plain": [
       "0   -19.285714\n",
       "1    -9.285714\n",
       "2    -4.285714\n",
       "3     0.714286\n",
       "4     5.714286\n",
       "5    10.714286\n",
       "6    15.714286\n",
       "Name: height, dtype: float64"
      ]
     },
     "execution_count": 19,
     "metadata": {},
     "output_type": "execute_result"
    }
   ],
   "source": [
    "f=(df[\"height\"]-m_height)                 #then we find X-mean of height column\n",
    "f"
   ]
  },
  {
   "cell_type": "code",
   "execution_count": 52,
   "id": "ec976267-4523-4989-84b3-8b30d56269ea",
   "metadata": {},
   "outputs": [
    {
     "data": {
      "text/plain": [
       "0    371.938776\n",
       "1     86.224490\n",
       "2     18.367347\n",
       "3      0.510204\n",
       "4     32.653061\n",
       "5    114.795918\n",
       "6    246.938776\n",
       "Name: height, dtype: float64"
      ]
     },
     "execution_count": 52,
     "metadata": {},
     "output_type": "execute_result"
    }
   ],
   "source": [
    "m=f**2                                    #then we square the X-mean of height column\n",
    "m"
   ]
  },
  {
   "cell_type": "code",
   "execution_count": 58,
   "id": "f1e07137-dc98-4768-be03-71cb8e8a79d9",
   "metadata": {},
   "outputs": [],
   "source": [
    "import math                              #importing maths library to use some mathematics operation"
   ]
  },
  {
   "cell_type": "code",
   "execution_count": 68,
   "id": "4132b68d-2d79-4b2a-b74e-6688fde40ac8",
   "metadata": {},
   "outputs": [
    {
     "data": {
      "text/plain": [
       "11.157499537009505"
      ]
     },
     "execution_count": 68,
     "metadata": {},
     "output_type": "execute_result"
    }
   ],
   "source": [
    "std_height=math.sqrt(m.sum()/n )\n",
    "std_height                               #here we got our standard deviation"
   ]
  },
  {
   "cell_type": "code",
   "execution_count": 23,
   "id": "bd24c48c-9294-4e32-821b-5d2658a1c48b",
   "metadata": {},
   "outputs": [
    {
     "data": {
      "text/plain": [
       "65.0"
      ]
     },
     "execution_count": 23,
     "metadata": {},
     "output_type": "execute_result"
    }
   ],
   "source": [
    "m_weight=df[\"Weight\"].sum()/n\n",
    "m_weight                                 #mean of weight"
   ]
  },
  {
   "cell_type": "code",
   "execution_count": 24,
   "id": "3b91ea74-a587-4026-919a-e5cc9c1e12e8",
   "metadata": {},
   "outputs": [
    {
     "data": {
      "text/plain": [
       "0    225.0\n",
       "1    100.0\n",
       "2     25.0\n",
       "3      0.0\n",
       "4     25.0\n",
       "5    100.0\n",
       "6    225.0\n",
       "Name: Weight, dtype: float64"
      ]
     },
     "execution_count": 24,
     "metadata": {},
     "output_type": "execute_result"
    }
   ],
   "source": [
    "w=(df[\"Weight\"]-m_weight)**2\n",
    "w                                       # (X-mean)square"
   ]
  },
  {
   "cell_type": "code",
   "execution_count": 25,
   "id": "0fa0547d-a97e-464d-9237-5b7690da3653",
   "metadata": {},
   "outputs": [
    {
     "data": {
      "text/plain": [
       "10.0"
      ]
     },
     "execution_count": 25,
     "metadata": {},
     "output_type": "execute_result"
    }
   ],
   "source": [
    "std_weight=math.sqrt(w.sum()/n)\n",
    "std_weight                             #here we got our standard deviation"
   ]
  },
  {
   "cell_type": "code",
   "execution_count": null,
   "id": "5b9dc599-18f1-4653-b410-0fabeba9f692",
   "metadata": {},
   "outputs": [],
   "source": []
  }
 ],
 "metadata": {
  "kernelspec": {
   "display_name": "Python 3 (ipykernel)",
   "language": "python",
   "name": "python3"
  },
  "language_info": {
   "codemirror_mode": {
    "name": "ipython",
    "version": 3
   },
   "file_extension": ".py",
   "mimetype": "text/x-python",
   "name": "python",
   "nbconvert_exporter": "python",
   "pygments_lexer": "ipython3",
   "version": "3.12.4"
  }
 },
 "nbformat": 4,
 "nbformat_minor": 5
}
